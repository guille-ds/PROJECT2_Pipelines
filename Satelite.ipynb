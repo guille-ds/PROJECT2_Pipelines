{
 "cells": [
  {
   "source": [
    "import pandas as pd\n",
    "import json\n",
    "import requests"
   ],
   "cell_type": "code",
   "outputs": [],
   "metadata": {},
   "execution_count": 1
  },
  {
   "source": [
    "dataSet = pd.read_csv(\"input/df.csv\")\n",
    "display(dataSet.head())"
   ],
   "cell_type": "code",
   "outputs": [
    {
     "output_type": "display_data",
     "data": {
      "text/plain": "  Official Name Country/Org of UN Registry Country of Operator  \\\n0        3Cat-1                         NR               Spain   \n1       Aalto-1                    Finland             Finland   \n2      AAUSat-4                    Denmark             Denmark   \n3         ABS-2                         NR       Multinational   \n4        ABS-2A                         NR       Multinational   \n\n                               Operator       Users                 Purpose  \\\n0  Universitat Politècnica de Catalunya       Civil  Technology Development   \n1                   University of Aalto       Civil  Technology Development   \n2                 University of Aalborg       Civil       Earth Observation   \n3         Asia Broadcast Satellite Ltd.  Commercial          Communications   \n4         Asia Broadcast Satellite Ltd.  Commercial          Communications   \n\n  Period (minutes) Date of Launch                            Contractor  \\\n0               95     11/29/2018  Universitat Politècnica de Catalunya   \n1             94.7      6/23/2017                   University of Aalto   \n2             95.9      4/25/2016                 University of Aalborg   \n3          1436.03       2/6/2014                   Space Systems/Loral   \n4           1436.1      6/15/2016              Boeing Satellite Systems   \n\n  Country of Contractor                 Launch Site Launch Vehicle  \\\n0                 Spain  Satish Dhawan Space Centre           PSLV   \n1               Finland  Satish Dhawan Space Centre           PSLV   \n2               Denmark         Guiana Space Center     Soyuz 2.1a   \n3                   USA         Guiana Space Center   Ariane 5 ECA   \n4                   USA              Cape Canaveral       Falcon 9   \n\n   NORAD Number  Year  \n0         43728  2018  \n1         42775  2017  \n2         41460  2016  \n3         39508  2014  \n4         41588  2016  ",
      "text/html": "<div>\n<style scoped>\n    .dataframe tbody tr th:only-of-type {\n        vertical-align: middle;\n    }\n\n    .dataframe tbody tr th {\n        vertical-align: top;\n    }\n\n    .dataframe thead th {\n        text-align: right;\n    }\n</style>\n<table border=\"1\" class=\"dataframe\">\n  <thead>\n    <tr style=\"text-align: right;\">\n      <th></th>\n      <th>Official Name</th>\n      <th>Country/Org of UN Registry</th>\n      <th>Country of Operator</th>\n      <th>Operator</th>\n      <th>Users</th>\n      <th>Purpose</th>\n      <th>Period (minutes)</th>\n      <th>Date of Launch</th>\n      <th>Contractor</th>\n      <th>Country of Contractor</th>\n      <th>Launch Site</th>\n      <th>Launch Vehicle</th>\n      <th>NORAD Number</th>\n      <th>Year</th>\n    </tr>\n  </thead>\n  <tbody>\n    <tr>\n      <th>0</th>\n      <td>3Cat-1</td>\n      <td>NR</td>\n      <td>Spain</td>\n      <td>Universitat Politècnica de Catalunya</td>\n      <td>Civil</td>\n      <td>Technology Development</td>\n      <td>95</td>\n      <td>11/29/2018</td>\n      <td>Universitat Politècnica de Catalunya</td>\n      <td>Spain</td>\n      <td>Satish Dhawan Space Centre</td>\n      <td>PSLV</td>\n      <td>43728</td>\n      <td>2018</td>\n    </tr>\n    <tr>\n      <th>1</th>\n      <td>Aalto-1</td>\n      <td>Finland</td>\n      <td>Finland</td>\n      <td>University of Aalto</td>\n      <td>Civil</td>\n      <td>Technology Development</td>\n      <td>94.7</td>\n      <td>6/23/2017</td>\n      <td>University of Aalto</td>\n      <td>Finland</td>\n      <td>Satish Dhawan Space Centre</td>\n      <td>PSLV</td>\n      <td>42775</td>\n      <td>2017</td>\n    </tr>\n    <tr>\n      <th>2</th>\n      <td>AAUSat-4</td>\n      <td>Denmark</td>\n      <td>Denmark</td>\n      <td>University of Aalborg</td>\n      <td>Civil</td>\n      <td>Earth Observation</td>\n      <td>95.9</td>\n      <td>4/25/2016</td>\n      <td>University of Aalborg</td>\n      <td>Denmark</td>\n      <td>Guiana Space Center</td>\n      <td>Soyuz 2.1a</td>\n      <td>41460</td>\n      <td>2016</td>\n    </tr>\n    <tr>\n      <th>3</th>\n      <td>ABS-2</td>\n      <td>NR</td>\n      <td>Multinational</td>\n      <td>Asia Broadcast Satellite Ltd.</td>\n      <td>Commercial</td>\n      <td>Communications</td>\n      <td>1436.03</td>\n      <td>2/6/2014</td>\n      <td>Space Systems/Loral</td>\n      <td>USA</td>\n      <td>Guiana Space Center</td>\n      <td>Ariane 5 ECA</td>\n      <td>39508</td>\n      <td>2014</td>\n    </tr>\n    <tr>\n      <th>4</th>\n      <td>ABS-2A</td>\n      <td>NR</td>\n      <td>Multinational</td>\n      <td>Asia Broadcast Satellite Ltd.</td>\n      <td>Commercial</td>\n      <td>Communications</td>\n      <td>1436.1</td>\n      <td>6/15/2016</td>\n      <td>Boeing Satellite Systems</td>\n      <td>USA</td>\n      <td>Cape Canaveral</td>\n      <td>Falcon 9</td>\n      <td>41588</td>\n      <td>2016</td>\n    </tr>\n  </tbody>\n</table>\n</div>"
     },
     "metadata": {}
    }
   ],
   "metadata": {},
   "execution_count": 2
  },
  {
   "source": [
    "def getPosition(satelite):\n",
    "    lat = 40.4165000\n",
    "    long = -3.7025600\n",
    "    apikey = \"P49C4E-N8UEND-DFW7CV-4APH\"\n",
    "    url = f\"https://www.n2yo.com/rest/v1/satellite/positions/{satelite}/{lat}/{long}/0/3/&apiKey={apikey}\"\n",
    "    \n",
    "    response = requests.get(url)\n",
    "    data = response.json()\n",
    "    return data"
   ],
   "cell_type": "code",
   "outputs": [],
   "metadata": {},
   "execution_count": 3
  },
  {
   "source": [
    "df = getPosition(43935)"
   ],
   "cell_type": "code",
   "outputs": [],
   "metadata": {},
   "execution_count": 4
  },
  {
   "source": [
    "tabla=pd.DataFrame(df[\"positions\"])\n",
    "tabla"
   ],
   "cell_type": "code",
   "outputs": [
    {
     "output_type": "execute_result",
     "data": {
      "text/plain": "   satlatitude  satlongitude  sataltitude  azimuth  elevation          ra  \\\n0   -40.498401    147.164718       503.99    98.85     -78.54  110.579157   \n1   -40.435719    147.146764       503.96    98.70     -78.53  110.567005   \n2   -40.373037    147.128837       503.92    98.54     -78.52  110.554873   \n\n         dec   timestamp  \n0 -41.192748  1580816506  \n1 -41.161235  1580816507  \n2 -41.129720  1580816508  ",
      "text/html": "<div>\n<style scoped>\n    .dataframe tbody tr th:only-of-type {\n        vertical-align: middle;\n    }\n\n    .dataframe tbody tr th {\n        vertical-align: top;\n    }\n\n    .dataframe thead th {\n        text-align: right;\n    }\n</style>\n<table border=\"1\" class=\"dataframe\">\n  <thead>\n    <tr style=\"text-align: right;\">\n      <th></th>\n      <th>satlatitude</th>\n      <th>satlongitude</th>\n      <th>sataltitude</th>\n      <th>azimuth</th>\n      <th>elevation</th>\n      <th>ra</th>\n      <th>dec</th>\n      <th>timestamp</th>\n    </tr>\n  </thead>\n  <tbody>\n    <tr>\n      <th>0</th>\n      <td>-40.498401</td>\n      <td>147.164718</td>\n      <td>503.99</td>\n      <td>98.85</td>\n      <td>-78.54</td>\n      <td>110.579157</td>\n      <td>-41.192748</td>\n      <td>1580816506</td>\n    </tr>\n    <tr>\n      <th>1</th>\n      <td>-40.435719</td>\n      <td>147.146764</td>\n      <td>503.96</td>\n      <td>98.70</td>\n      <td>-78.53</td>\n      <td>110.567005</td>\n      <td>-41.161235</td>\n      <td>1580816507</td>\n    </tr>\n    <tr>\n      <th>2</th>\n      <td>-40.373037</td>\n      <td>147.128837</td>\n      <td>503.92</td>\n      <td>98.54</td>\n      <td>-78.52</td>\n      <td>110.554873</td>\n      <td>-41.129720</td>\n      <td>1580816508</td>\n    </tr>\n  </tbody>\n</table>\n</div>"
     },
     "metadata": {},
     "execution_count": 5
    }
   ],
   "metadata": {},
   "execution_count": 5
  },
  {
   "source": [
    "df"
   ],
   "cell_type": "code",
   "outputs": [
    {
     "output_type": "execute_result",
     "data": {
      "text/plain": "{'info': {'satname': 'MICRODRAGON', 'satid': 43935, 'transactionscount': 0},\n 'positions': [{'satlatitude': -40.49840121,\n   'satlongitude': 147.16471762,\n   'sataltitude': 503.99,\n   'azimuth': 98.85,\n   'elevation': -78.54,\n   'ra': 110.57915678,\n   'dec': -41.1927476,\n   'timestamp': 1580816506},\n  {'satlatitude': -40.43571919,\n   'satlongitude': 147.1467641,\n   'sataltitude': 503.96,\n   'azimuth': 98.7,\n   'elevation': -78.53,\n   'ra': 110.56700457,\n   'dec': -41.16123499,\n   'timestamp': 1580816507},\n  {'satlatitude': -40.37303693,\n   'satlongitude': 147.12883674,\n   'sataltitude': 503.92,\n   'azimuth': 98.54,\n   'elevation': -78.52,\n   'ra': 110.5548726,\n   'dec': -41.12971981,\n   'timestamp': 1580816508}]}"
     },
     "metadata": {},
     "execution_count": 6
    }
   ],
   "metadata": {},
   "execution_count": 6
  },
  {
   "source": [
    "import folium\n",
    "from folium.plugins import FastMarkerCluster\n",
    "\n",
    "map1 = folium.Map(\n",
    "    location=[tabla[\"satlatitude\"][0], tabla[\"satlongitude\"][0]],\n",
    "    tiles='CartoDB dark_matter',\n",
    "    zoom_start=3,\n",
    ")\n",
    "tabla.apply(lambda row:folium.CircleMarker(location=[row[\"satlatitude\"], row[\"satlongitude\"]]).add_to(map1), axis=1)\n",
    "map1"
   ],
   "cell_type": "code",
   "outputs": [
    {
     "output_type": "execute_result",
     "data": {
      "text/plain": "<folium.folium.Map at 0x7fc743271c90>",
      "text/html": "<div style=\"width:100%;\"><div style=\"position:relative;width:100%;height:0;padding-bottom:60%;\"><iframe src=\"data:text/html;charset=utf-8;base64,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\" style=\"position:absolute;width:100%;height:100%;left:0;top:0;border:none !important;\" allowfullscreen webkitallowfullscreen mozallowfullscreen></iframe></div></div>"
     },
     "metadata": {},
     "execution_count": 7
    }
   ],
   "metadata": {},
   "execution_count": 7
  }
 ],
 "metadata": {
  "kernelspec": {
   "display_name": "Python 3",
   "language": "python",
   "name": "python3"
  },
  "language_info": {
   "codemirror_mode": {
    "name": "ipython",
    "version": 3
   },
   "file_extension": ".py",
   "mimetype": "text/x-python",
   "name": "python",
   "nbconvert_exporter": "python",
   "pygments_lexer": "ipython3",
   "version": "3.7.5-final"
  }
 },
 "nbformat": 4,
 "nbformat_minor": 4
}