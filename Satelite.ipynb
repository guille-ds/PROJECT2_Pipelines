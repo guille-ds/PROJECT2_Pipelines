{
 "cells": [
  {
   "source": [
    "import pandas as pd\n",
    "import json\n",
    "import requests"
   ],
   "cell_type": "code",
   "outputs": [],
   "metadata": {},
   "execution_count": 14
  },
  {
   "source": [
    "dataSet = pd.read_csv(\"input/df.csv\")\n",
    "display(dataSet.head())"
   ],
   "cell_type": "code",
   "outputs": [
    {
     "output_type": "display_data",
     "data": {
      "text/plain": "  Official Name Country/Org of UN Registry Country of Operator  \\\n0        3Cat-1                         NR               Spain   \n1       Aalto-1                    Finland             Finland   \n2      AAUSat-4                    Denmark             Denmark   \n3         ABS-2                         NR       Multinational   \n4        ABS-2A                         NR       Multinational   \n\n                               Operator       Users                 Purpose  \\\n0  Universitat Politècnica de Catalunya       Civil  Technology Development   \n1                   University of Aalto       Civil  Technology Development   \n2                 University of Aalborg       Civil       Earth Observation   \n3         Asia Broadcast Satellite Ltd.  Commercial          Communications   \n4         Asia Broadcast Satellite Ltd.  Commercial          Communications   \n\n  Period (minutes) Date of Launch                            Contractor  \\\n0               95     11/29/2018  Universitat Politècnica de Catalunya   \n1             94.7      6/23/2017                   University of Aalto   \n2             95.9      4/25/2016                 University of Aalborg   \n3          1436.03       2/6/2014                   Space Systems/Loral   \n4           1436.1      6/15/2016              Boeing Satellite Systems   \n\n  Country of Contractor                 Launch Site Launch Vehicle  \\\n0                 Spain  Satish Dhawan Space Centre           PSLV   \n1               Finland  Satish Dhawan Space Centre           PSLV   \n2               Denmark         Guiana Space Center     Soyuz 2.1a   \n3                   USA         Guiana Space Center   Ariane 5 ECA   \n4                   USA              Cape Canaveral       Falcon 9   \n\n   NORAD Number  \n0         43728  \n1         42775  \n2         41460  \n3         39508  \n4         41588  ",
      "text/html": "<div>\n<style scoped>\n    .dataframe tbody tr th:only-of-type {\n        vertical-align: middle;\n    }\n\n    .dataframe tbody tr th {\n        vertical-align: top;\n    }\n\n    .dataframe thead th {\n        text-align: right;\n    }\n</style>\n<table border=\"1\" class=\"dataframe\">\n  <thead>\n    <tr style=\"text-align: right;\">\n      <th></th>\n      <th>Official Name</th>\n      <th>Country/Org of UN Registry</th>\n      <th>Country of Operator</th>\n      <th>Operator</th>\n      <th>Users</th>\n      <th>Purpose</th>\n      <th>Period (minutes)</th>\n      <th>Date of Launch</th>\n      <th>Contractor</th>\n      <th>Country of Contractor</th>\n      <th>Launch Site</th>\n      <th>Launch Vehicle</th>\n      <th>NORAD Number</th>\n    </tr>\n  </thead>\n  <tbody>\n    <tr>\n      <th>0</th>\n      <td>3Cat-1</td>\n      <td>NR</td>\n      <td>Spain</td>\n      <td>Universitat Politècnica de Catalunya</td>\n      <td>Civil</td>\n      <td>Technology Development</td>\n      <td>95</td>\n      <td>11/29/2018</td>\n      <td>Universitat Politècnica de Catalunya</td>\n      <td>Spain</td>\n      <td>Satish Dhawan Space Centre</td>\n      <td>PSLV</td>\n      <td>43728</td>\n    </tr>\n    <tr>\n      <th>1</th>\n      <td>Aalto-1</td>\n      <td>Finland</td>\n      <td>Finland</td>\n      <td>University of Aalto</td>\n      <td>Civil</td>\n      <td>Technology Development</td>\n      <td>94.7</td>\n      <td>6/23/2017</td>\n      <td>University of Aalto</td>\n      <td>Finland</td>\n      <td>Satish Dhawan Space Centre</td>\n      <td>PSLV</td>\n      <td>42775</td>\n    </tr>\n    <tr>\n      <th>2</th>\n      <td>AAUSat-4</td>\n      <td>Denmark</td>\n      <td>Denmark</td>\n      <td>University of Aalborg</td>\n      <td>Civil</td>\n      <td>Earth Observation</td>\n      <td>95.9</td>\n      <td>4/25/2016</td>\n      <td>University of Aalborg</td>\n      <td>Denmark</td>\n      <td>Guiana Space Center</td>\n      <td>Soyuz 2.1a</td>\n      <td>41460</td>\n    </tr>\n    <tr>\n      <th>3</th>\n      <td>ABS-2</td>\n      <td>NR</td>\n      <td>Multinational</td>\n      <td>Asia Broadcast Satellite Ltd.</td>\n      <td>Commercial</td>\n      <td>Communications</td>\n      <td>1436.03</td>\n      <td>2/6/2014</td>\n      <td>Space Systems/Loral</td>\n      <td>USA</td>\n      <td>Guiana Space Center</td>\n      <td>Ariane 5 ECA</td>\n      <td>39508</td>\n    </tr>\n    <tr>\n      <th>4</th>\n      <td>ABS-2A</td>\n      <td>NR</td>\n      <td>Multinational</td>\n      <td>Asia Broadcast Satellite Ltd.</td>\n      <td>Commercial</td>\n      <td>Communications</td>\n      <td>1436.1</td>\n      <td>6/15/2016</td>\n      <td>Boeing Satellite Systems</td>\n      <td>USA</td>\n      <td>Cape Canaveral</td>\n      <td>Falcon 9</td>\n      <td>41588</td>\n    </tr>\n  </tbody>\n</table>\n</div>"
     },
     "metadata": {}
    }
   ],
   "metadata": {},
   "execution_count": 16
  },
  {
   "source": [
    "def getPosition(satelite):\n",
    "    lat = 40.4165000\n",
    "    long = -3.7025600\n",
    "    apikey = \"P49C4E-N8UEND-DFW7CV-4APH\"\n",
    "    url = f\"https://www.n2yo.com/rest/v1/satellite/positions/{satelite}/{lat}/{long}/0/3/&apiKey={apikey}\"\n",
    "    \n",
    "    response = requests.get(url)\n",
    "    data = response.json()\n",
    "    return data"
   ],
   "cell_type": "code",
   "outputs": [],
   "metadata": {},
   "execution_count": 32
  },
  {
   "source": [
    "def printPositions(43936)\n",
    ""
   ],
   "cell_type": "code",
   "outputs": [
    {
     "output_type": "error",
     "ename": "SyntaxError",
     "evalue": "invalid syntax (<ipython-input-33-870476338ecf>, line 1)",
     "traceback": [
      "\u001b[0;36m  File \u001b[0;32m\"<ipython-input-33-870476338ecf>\"\u001b[0;36m, line \u001b[0;32m1\u001b[0m\n\u001b[0;31m    def printPositions(43936)\u001b[0m\n\u001b[0m                           ^\u001b[0m\n\u001b[0;31mSyntaxError\u001b[0m\u001b[0;31m:\u001b[0m invalid syntax\n"
     ]
    }
   ],
   "metadata": {},
   "execution_count": 33
  },
  {
   "source": [
    "data[\"positions\"]"
   ],
   "cell_type": "code",
   "outputs": [
    {
     "output_type": "error",
     "ename": "NameError",
     "evalue": "name 'data' is not defined",
     "traceback": [
      "\u001b[0;31m---------------------------------------------------------------------------\u001b[0m",
      "\u001b[0;31mNameError\u001b[0m                                 Traceback (most recent call last)",
      "\u001b[0;32m<ipython-input-30-07ad2c6d6c2e>\u001b[0m in \u001b[0;36m<module>\u001b[0;34m\u001b[0m\n\u001b[0;32m----> 1\u001b[0;31m \u001b[0mdata\u001b[0m\u001b[0;34m[\u001b[0m\u001b[0;34m\"positions\"\u001b[0m\u001b[0;34m]\u001b[0m\u001b[0;34m\u001b[0m\u001b[0;34m\u001b[0m\u001b[0m\n\u001b[0m",
      "\u001b[0;31mNameError\u001b[0m: name 'data' is not defined"
     ]
    }
   ],
   "metadata": {},
   "execution_count": 30
  },
  {
   "source": [
    "df = getPosition(43935)"
   ],
   "cell_type": "code",
   "outputs": [],
   "metadata": {},
   "execution_count": 35
  },
  {
   "source": [
    "tabla=pd.DataFrame(df[\"positions\"])\n",
    "tabla"
   ],
   "cell_type": "code",
   "outputs": [
    {
     "output_type": "execute_result",
     "data": {
      "text/plain": "   satlatitude  satlongitude  sataltitude  azimuth  elevation          ra  \\\n0    80.100299     81.332051       511.60    13.05     -19.97  123.750045   \n1    80.143331     81.058490       511.61    13.00     -19.94  123.802872   \n2    80.186145     80.782608       511.63    12.95     -19.91  123.855851   \n\n         dec   timestamp  \n0  28.423979  1580733266  \n1  28.463496  1580733267  \n2  28.502990  1580733268  ",
      "text/html": "<div>\n<style scoped>\n    .dataframe tbody tr th:only-of-type {\n        vertical-align: middle;\n    }\n\n    .dataframe tbody tr th {\n        vertical-align: top;\n    }\n\n    .dataframe thead th {\n        text-align: right;\n    }\n</style>\n<table border=\"1\" class=\"dataframe\">\n  <thead>\n    <tr style=\"text-align: right;\">\n      <th></th>\n      <th>satlatitude</th>\n      <th>satlongitude</th>\n      <th>sataltitude</th>\n      <th>azimuth</th>\n      <th>elevation</th>\n      <th>ra</th>\n      <th>dec</th>\n      <th>timestamp</th>\n    </tr>\n  </thead>\n  <tbody>\n    <tr>\n      <th>0</th>\n      <td>80.100299</td>\n      <td>81.332051</td>\n      <td>511.60</td>\n      <td>13.05</td>\n      <td>-19.97</td>\n      <td>123.750045</td>\n      <td>28.423979</td>\n      <td>1580733266</td>\n    </tr>\n    <tr>\n      <th>1</th>\n      <td>80.143331</td>\n      <td>81.058490</td>\n      <td>511.61</td>\n      <td>13.00</td>\n      <td>-19.94</td>\n      <td>123.802872</td>\n      <td>28.463496</td>\n      <td>1580733267</td>\n    </tr>\n    <tr>\n      <th>2</th>\n      <td>80.186145</td>\n      <td>80.782608</td>\n      <td>511.63</td>\n      <td>12.95</td>\n      <td>-19.91</td>\n      <td>123.855851</td>\n      <td>28.502990</td>\n      <td>1580733268</td>\n    </tr>\n  </tbody>\n</table>\n</div>"
     },
     "metadata": {},
     "execution_count": 36
    }
   ],
   "metadata": {},
   "execution_count": 36
  },
  {
   "source": [
    "df"
   ],
   "cell_type": "code",
   "outputs": [
    {
     "output_type": "execute_result",
     "data": {
      "text/plain": "{'info': {'satname': 'MICRODRAGON', 'satid': 43935, 'transactionscount': 31},\n 'positions': [{'satlatitude': 80.10029866,\n   'satlongitude': 81.33205102,\n   'sataltitude': 511.6,\n   'azimuth': 13.05,\n   'elevation': -19.97,\n   'ra': 123.7500455,\n   'dec': 28.42397898,\n   'timestamp': 1580733266},\n  {'satlatitude': 80.14333082,\n   'satlongitude': 81.05848957,\n   'sataltitude': 511.61,\n   'azimuth': 13,\n   'elevation': -19.94,\n   'ra': 123.80287181,\n   'dec': 28.46349567,\n   'timestamp': 1580733267},\n  {'satlatitude': 80.18614548,\n   'satlongitude': 80.78260796,\n   'sataltitude': 511.63,\n   'azimuth': 12.95,\n   'elevation': -19.91,\n   'ra': 123.85585067,\n   'dec': 28.50298993,\n   'timestamp': 1580733268}]}"
     },
     "metadata": {},
     "execution_count": 37
    }
   ],
   "metadata": {},
   "execution_count": 37
  },
  {
   "source": [
    "import folium\n",
    "from folium.plugins import FastMarkerCluster\n",
    "\n",
    "map1 = folium.Map(\n",
    "    location=[tabla[\"satlatitude\"][0], tabla[\"satlongitude\"][0]],\n",
    "    tiles='CartoDB dark_matter',\n",
    "    zoom_start=3,\n",
    ")\n",
    "tabla.apply(lambda row:folium.CircleMarker(location=[row[\"satlatitude\"], row[\"satlongitude\"]]).add_to(map1), axis=1)\n",
    "map1"
   ],
   "cell_type": "code",
   "outputs": [
    {
     "output_type": "execute_result",
     "data": {
      "text/plain": "<folium.folium.Map at 0x7f3b1068b710>",
      "text/html": "<div style=\"width:100%;\"><div style=\"position:relative;width:100%;height:0;padding-bottom:60%;\"><iframe src=\"data:text/html;charset=utf-8;base64,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\" style=\"position:absolute;width:100%;height:100%;left:0;top:0;border:none !important;\" allowfullscreen webkitallowfullscreen mozallowfullscreen></iframe></div></div>"
     },
     "metadata": {},
     "execution_count": 38
    }
   ],
   "metadata": {},
   "execution_count": 38
  },
  {
   "cell_type": "code",
   "execution_count": null,
   "metadata": {},
   "outputs": [],
   "source": []
  }
 ],
 "metadata": {
  "kernelspec": {
   "display_name": "Python 3",
   "language": "python",
   "name": "python3"
  },
  "language_info": {
   "codemirror_mode": {
    "name": "ipython",
    "version": 3
   },
   "file_extension": ".py",
   "mimetype": "text/x-python",
   "name": "python",
   "nbconvert_exporter": "python",
   "pygments_lexer": "ipython3",
   "version": "3.7.5-final"
  }
 },
 "nbformat": 4,
 "nbformat_minor": 4
}